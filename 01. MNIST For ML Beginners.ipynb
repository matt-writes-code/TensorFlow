{
  "nbformat": 4,
  "nbformat_minor": 0,
  "metadata": {
    "colab": {
      "name": "Hello, Colaboratory",
      "version": "0.3.2",
      "provenance": [],
      "collapsed_sections": [],
      "include_colab_link": true
    },
    "kernelspec": {
      "display_name": "Python 3",
      "name": "python3"
    },
    "accelerator": "GPU"
  },
  "cells": [
    {
      "cell_type": "markdown",
      "metadata": {
        "id": "view-in-github",
        "colab_type": "text"
      },
      "source": [
        "[View in Colaboratory](https://colab.research.google.com/github/mayojich/TensorFlow/blob/master/%20MNIST%20For%20ML%20Beginners.ipynb)"
      ]
    },
    {
      "metadata": {
        "id": "TJ4q-ekVQQdO",
        "colab_type": "text"
      },
      "cell_type": "markdown",
      "source": [
        "[MNIST for ML Beginners](https://www.tensorflow.org/versions/r1.2/get_started/mnist/beginners#training)"
      ]
    },
    {
      "metadata": {
        "id": "ZKb_85XbuW1L",
        "colab_type": "text"
      },
      "cell_type": "markdown",
      "source": [
        "**The MNIST Data**"
      ]
    },
    {
      "metadata": {
        "id": "NLvjGam2g_ma",
        "colab_type": "code",
        "colab": {}
      },
      "cell_type": "code",
      "source": [
        "# import that data\n",
        "from tensorflow.examples.tutorials.mnist import input_data\n",
        "mnist = input_data.read_data_sets(\"MNIST_data/\", one_hot=True)"
      ],
      "execution_count": 0,
      "outputs": []
    },
    {
      "metadata": {
        "id": "g5rfPYpCuI6-",
        "colab_type": "text"
      },
      "cell_type": "markdown",
      "source": [
        "**Implementing the Regression**"
      ]
    },
    {
      "metadata": {
        "id": "5a31uYkSiGdu",
        "colab_type": "code",
        "colab": {
          "base_uri": "https://localhost:8080/",
          "height": 34
        },
        "outputId": "01f9bb8f-8ffe-4320-f428-4ba1b8c2fb9d"
      },
      "cell_type": "code",
      "source": [
        "# import tensorflow - let me use tf\n",
        "import tensorflow as tf\n",
        "print(tf)"
      ],
      "execution_count": 0,
      "outputs": [
        {
          "output_type": "stream",
          "text": [
            "<module 'tensorflow' from '/usr/local/lib/python3.6/dist-packages/tensorflow/__init__.py'>\n"
          ],
          "name": "stdout"
        }
      ]
    },
    {
      "metadata": {
        "id": "QxxOuurThaDu",
        "colab_type": "code",
        "colab": {
          "base_uri": "https://localhost:8080/",
          "height": 34
        },
        "outputId": "1c9c76b1-1105-458d-fd4c-5e3e99e8d9a3"
      },
      "cell_type": "code",
      "source": [
        "# each MNIST image, x, is flattened  into a 784-dimension vector. \n",
        "# None = dimension of any length.\n",
        "x = tf.placeholder(tf.float32, [None, 784])\n",
        "print(x)\n"
      ],
      "execution_count": 0,
      "outputs": [
        {
          "output_type": "stream",
          "text": [
            "Tensor(\"Placeholder_3:0\", shape=(?, 784), dtype=float32)\n"
          ],
          "name": "stdout"
        }
      ]
    },
    {
      "metadata": {
        "id": "7Hd_KNS1iUgV",
        "colab_type": "code",
        "colab": {
          "base_uri": "https://localhost:8080/",
          "height": 51
        },
        "outputId": "64a3487e-d634-4bea-fff6-774060e6f543"
      },
      "cell_type": "code",
      "source": [
        "# Variables = modifiable tensor\n",
        "# W = multiply 784-dimension by W to produce 10-D vectors (?)\n",
        "W = tf.Variable(tf.zeros([784, 10]))\n",
        "b = tf.Variable(tf.zeros([10]))\n",
        "print(W)\n",
        "print(b)"
      ],
      "execution_count": 0,
      "outputs": [
        {
          "output_type": "stream",
          "text": [
            "<tf.Variable 'Variable_2:0' shape=(784, 10) dtype=float32_ref>\n",
            "<tf.Variable 'Variable_3:0' shape=(10,) dtype=float32_ref>\n"
          ],
          "name": "stdout"
        }
      ]
    },
    {
      "metadata": {
        "id": "dDvVcYYdiVbF",
        "colab_type": "code",
        "colab": {
          "base_uri": "https://localhost:8080/",
          "height": 34
        },
        "outputId": "b8bf60f9-dc3a-41a4-b2a6-7ee8d71c8a59"
      },
      "cell_type": "code",
      "source": [
        "# implement model\n",
        "y = tf.nn.softmax(tf.matmul(x, W) + b)\n",
        "print(y)"
      ],
      "execution_count": 0,
      "outputs": [
        {
          "output_type": "stream",
          "text": [
            "Tensor(\"Softmax_1:0\", shape=(?, 10), dtype=float32)\n"
          ],
          "name": "stdout"
        }
      ]
    },
    {
      "metadata": {
        "id": "q-opLzYytaEI",
        "colab_type": "text"
      },
      "cell_type": "markdown",
      "source": [
        "**Training**"
      ]
    },
    {
      "metadata": {
        "id": "9Bk0o7vziXiB",
        "colab_type": "code",
        "colab": {
          "base_uri": "https://localhost:8080/",
          "height": 34
        },
        "outputId": "dd860ede-cc7e-4929-9e43-5ee304920ce9"
      },
      "cell_type": "code",
      "source": [
        "# placeholder for correct answer.\n",
        "y_ = tf.placeholder(tf.float32, [None, 10])\n",
        "print(y_)"
      ],
      "execution_count": 0,
      "outputs": [
        {
          "output_type": "stream",
          "text": [
            "Tensor(\"Placeholder_2:0\", shape=(?, 10), dtype=float32)\n"
          ],
          "name": "stdout"
        }
      ]
    },
    {
      "metadata": {
        "id": "DkdMq6C3iYZt",
        "colab_type": "code",
        "colab": {
          "base_uri": "https://localhost:8080/",
          "height": 34
        },
        "outputId": "22cda21c-2155-4add-fe50-ec2ac1e60e45"
      },
      "cell_type": "code",
      "source": [
        "# implement cross-entropy function. This is to determine loss(error) of the model.\n",
        "cross_entropy = tf.reduce_mean(-tf.reduce_sum(y_ * tf.log(y), reduction_indices=[1]))\n",
        "print(cross_entropy)"
      ],
      "execution_count": 0,
      "outputs": [
        {
          "output_type": "stream",
          "text": [
            "Tensor(\"Mean_2:0\", shape=(), dtype=float32)\n"
          ],
          "name": "stdout"
        }
      ]
    },
    {
      "metadata": {
        "id": "vjdyPvzTRIa7",
        "colab_type": "text"
      },
      "cell_type": "markdown",
      "source": [
        "Tensorflow autoomatically uses backpropogation algorithm to determine how  variables affect loss.\n",
        "It then applies optimization algo and reduces loss."
      ]
    },
    {
      "metadata": {
        "id": "73lazfJaiZPV",
        "colab_type": "code",
        "colab": {
          "base_uri": "https://localhost:8080/",
          "height": 102
        },
        "outputId": "bcc89202-9563-4bb0-817b-71c0ad8ada28"
      },
      "cell_type": "code",
      "source": [
        "# minimize cross-entropy using gradient descent algorithm. \n",
        "# learning rate = 0.5\n",
        "train_step = tf.train.GradientDescentOptimizer(0.05).minimize(cross_entropy)\n",
        "print(train_step)"
      ],
      "execution_count": 0,
      "outputs": [
        {
          "output_type": "stream",
          "text": [
            "name: \"GradientDescent_2\"\n",
            "op: \"NoOp\"\n",
            "input: \"^GradientDescent_2/update_Variable/ApplyGradientDescent\"\n",
            "input: \"^GradientDescent_2/update_Variable_1/ApplyGradientDescent\"\n",
            "\n"
          ],
          "name": "stdout"
        }
      ]
    },
    {
      "metadata": {
        "id": "gM4eLCqdiaMN",
        "colab_type": "code",
        "colab": {
          "base_uri": "https://localhost:8080/",
          "height": 88
        },
        "outputId": "ed81ec2f-2a5b-4519-ffd3-f7d84a3b2c6e"
      },
      "cell_type": "code",
      "source": [
        "# launch model in InteractiveSession\n",
        "sess = tf.InteractiveSession()\n",
        "print(sess)"
      ],
      "execution_count": 0,
      "outputs": [
        {
          "output_type": "stream",
          "text": [
            "<tensorflow.python.client.session.InteractiveSession object at 0x7fe4d3277b70>\n"
          ],
          "name": "stdout"
        },
        {
          "output_type": "stream",
          "text": [
            "/usr/local/lib/python3.6/dist-packages/tensorflow/python/client/session.py:1714: UserWarning: An interactive session is already active. This can cause out-of-memory errors in some cases. You must explicitly call `InteractiveSession.close()` to release resources held by the other session(s).\n",
            "  warnings.warn('An interactive session is already active. This can '\n"
          ],
          "name": "stderr"
        }
      ]
    },
    {
      "metadata": {
        "id": "szZpC8LZia7A",
        "colab_type": "code",
        "colab": {
          "base_uri": "https://localhost:8080/",
          "height": 34
        },
        "outputId": "fc2aafe0-bab7-4a16-efcc-bc8ff8b1080b"
      },
      "cell_type": "code",
      "source": [
        "# create operation to initialize variables\n",
        "tf.global_variables_initializer().run()\n",
        "print(tf.global_variables_initializer().run())"
      ],
      "execution_count": 0,
      "outputs": [
        {
          "output_type": "stream",
          "text": [
            "None\n"
          ],
          "name": "stdout"
        }
      ]
    },
    {
      "metadata": {
        "id": "hDr_oBRIicgY",
        "colab_type": "code",
        "colab": {}
      },
      "cell_type": "code",
      "source": [
        "# run training steps 1000 times\n",
        "# this stochastic gradient descent runs random batches of 100 per session\n",
        "for _ in range(1000):\n",
        "  batch_xs, batch_ys = mnist.train.next_batch(100)\n",
        "  sess.run(train_step, feed_dict={x: batch_xs, y_: batch_ys})"
      ],
      "execution_count": 0,
      "outputs": []
    },
    {
      "metadata": {
        "id": "XonMiuaXuhuC",
        "colab_type": "text"
      },
      "cell_type": "markdown",
      "source": [
        "**Evaluating Our Model**"
      ]
    },
    {
      "metadata": {
        "id": "XO5HbfwtieUR",
        "colab_type": "code",
        "colab": {
          "base_uri": "https://localhost:8080/",
          "height": 34
        },
        "outputId": "18a17453-a4f7-42a6-d614-be4a8d40cdd0"
      },
      "cell_type": "code",
      "source": [
        "# tf.argmax(y,1) most likely label for each input\n",
        "# tf.argmax(y_,1) correct label\n",
        "# tf.equal checks prediction accuracy\n",
        "correct_prediction = tf.equal(tf.argmax(y,1), tf.argmax(y_,1))\n",
        "print(correct_prediction)"
      ],
      "execution_count": 0,
      "outputs": [
        {
          "output_type": "stream",
          "text": [
            "Tensor(\"Equal_1:0\", shape=(?,), dtype=bool)\n"
          ],
          "name": "stdout"
        }
      ]
    },
    {
      "metadata": {
        "id": "4ah-TJ4vifXo",
        "colab_type": "code",
        "colab": {
          "base_uri": "https://localhost:8080/",
          "height": 34
        },
        "outputId": "548eb118-5005-494a-ad54-e9b97818dd28"
      },
      "cell_type": "code",
      "source": [
        "accuracy = tf.reduce_mean(tf.cast(correct_prediction, tf.float32))\n",
        "print(accuracy)"
      ],
      "execution_count": 0,
      "outputs": [
        {
          "output_type": "stream",
          "text": [
            "Tensor(\"Mean_3:0\", shape=(), dtype=float32)\n"
          ],
          "name": "stdout"
        }
      ]
    },
    {
      "metadata": {
        "id": "Yw6oab5sigBH",
        "colab_type": "code",
        "colab": {
          "base_uri": "https://localhost:8080/",
          "height": 34
        },
        "outputId": "cf15489b-198a-4338-a339-d93050e28a44"
      },
      "cell_type": "code",
      "source": [
        "# print accuracy of data\n",
        "print(sess.run(accuracy, feed_dict={x: mnist.test.images, y_: mnist.test.labels}))"
      ],
      "execution_count": 0,
      "outputs": [
        {
          "output_type": "stream",
          "text": [
            "0.902\n"
          ],
          "name": "stdout"
        }
      ]
    }
  ]
}
