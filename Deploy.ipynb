{
  "nbformat": 4,
  "nbformat_minor": 0,
  "metadata": {
    "colab": {
      "name": "Hello, Colaboratory",
      "version": "0.3.2",
      "provenance": [],
      "collapsed_sections": [],
      "toc_visible": true,
      "include_colab_link": true
    },
    "kernelspec": {
      "display_name": "Python 3",
      "name": "python3"
    }
  },
  "cells": [
    {
      "cell_type": "markdown",
      "metadata": {
        "id": "view-in-github",
        "colab_type": "text"
      },
      "source": [
        "[View in Colaboratory](https://colab.research.google.com/github/mayojich/TensorFlow/blob/master/Deploy.ipynb)"
      ]
    },
    {
      "metadata": {
        "id": "swWv_bukjQUT",
        "colab_type": "text"
      },
      "cell_type": "markdown",
      "source": [
        "This is the [DEPLOY](https://www.tensorflow.org/deploy/distributed#hello_distributed_tensorflow) tutorial for Tensorflow. In the same breath, they also provide the SERVING guide."
      ]
    },
    {
      "metadata": {
        "id": "navIyo7bhQMx",
        "colab_type": "code",
        "colab": {
          "base_uri": "https://localhost:8080/",
          "height": 34
        },
        "outputId": "433d498a-13f9-4f23-8da9-596c8d555d15"
      },
      "cell_type": "code",
      "source": [
        "# Start a TensorFlow server as a single-process \"cluster\".\n",
        "\n",
        ">>> import tensorflow as tf\n",
        ">>> c = tf.constant(\"Hello, distributed TensorFlow!\")\n",
        ">>> server = tf.train.Server.create_local_server()\n",
        ">>> sess = tf.Session(server.target)  # Create a session on the server.\n",
        ">>> sess.run(c)\n",
        "'Hello, distributed TensorFlow!'"
      ],
      "execution_count": 3,
      "outputs": [
        {
          "output_type": "execute_result",
          "data": {
            "text/plain": [
              "'Hello, distributed TensorFlow!'"
            ]
          },
          "metadata": {
            "tags": []
          },
          "execution_count": 3
        }
      ]
    }
  ]
}