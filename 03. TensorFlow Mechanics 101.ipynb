{
  "nbformat": 4,
  "nbformat_minor": 0,
  "metadata": {
    "colab": {
      "name": "Hello, Colaboratory",
      "version": "0.3.2",
      "provenance": [],
      "collapsed_sections": [],
      "include_colab_link": true
    },
    "kernelspec": {
      "display_name": "Python 3",
      "name": "python3"
    }
  },
  "cells": [
    {
      "cell_type": "markdown",
      "metadata": {
        "id": "view-in-github",
        "colab_type": "text"
      },
      "source": [
        "[View in Colaboratory](https://colab.research.google.com/github/mayojich/TensorFlow/blob/master/03.%20TensorFlow%20Mechanics%20101.ipynb)"
      ]
    },
    {
      "metadata": {
        "id": "0WGQ1ELTglO5",
        "colab_type": "text"
      },
      "cell_type": "markdown",
      "source": [
        "[TensorFlow Mechanics 101](https://www.tensorflow.org/versions/r1.2/get_started/mnist/mechanics)"
      ]
    },
    {
      "metadata": {
        "id": "TekXrph_gzoY",
        "colab_type": "text"
      },
      "cell_type": "markdown",
      "source": [
        "**TUTORIAL FILES**"
      ]
    },
    {
      "metadata": {
        "id": "hJbPNB-1g58V",
        "colab_type": "code",
        "colab": {}
      },
      "cell_type": "code",
      "source": [
        "# start  training\n",
        "python fully_connected_feed.py"
      ],
      "execution_count": 0,
      "outputs": []
    },
    {
      "metadata": {
        "id": "RRWl4R7ag9-z",
        "colab_type": "text"
      },
      "cell_type": "markdown",
      "source": [
        "**Prepare the Data**"
      ]
    },
    {
      "metadata": {
        "id": "R5pUtbxOhB1B",
        "colab_type": "text"
      },
      "cell_type": "markdown",
      "source": [
        "**Download**"
      ]
    },
    {
      "metadata": {
        "id": "8KuB4I7MhEOD",
        "colab_type": "code",
        "colab": {}
      },
      "cell_type": "code",
      "source": [
        "# input_data.read_data_sets() ensures correct data has been downloaded\n",
        "# fake_data for unit-testing only\n",
        "data_sets = input_data.read_data_sets(FLAGS.train_dir, FLAGS.fake_data)"
      ],
      "execution_count": 0,
      "outputs": []
    },
    {
      "metadata": {
        "id": "xYV0Ojb-hGb1",
        "colab_type": "text"
      },
      "cell_type": "markdown",
      "source": [
        "**Input and Placeholders**"
      ]
    },
    {
      "metadata": {
        "id": "cT2AuL0KhLaq",
        "colab_type": "code",
        "colab": {}
      },
      "cell_type": "code",
      "source": [
        "# determines shape of inputs\n",
        "images_placeholder = tf.placeholder(tf.float32, shape=(batch_size,\n",
        "                                                       mnist.IMAGE_PIXELS))\n",
        "labels_placeholder = tf.placeholder(tf.int32, shape=(batch_size))"
      ],
      "execution_count": 0,
      "outputs": []
    },
    {
      "metadata": {
        "id": "so9QvXZzhMQW",
        "colab_type": "text"
      },
      "cell_type": "markdown",
      "source": [
        "**Build the Graph**"
      ]
    },
    {
      "metadata": {
        "id": "e7O88ipdhVdO",
        "colab_type": "text"
      },
      "cell_type": "markdown",
      "source": [
        "**Inference**  \n",
        "Builds graph"
      ]
    },
    {
      "metadata": {
        "id": "DBuKiJkbhYBg",
        "colab_type": "code",
        "colab": {}
      },
      "cell_type": "code",
      "source": [
        "# layers are created under unique tf.name_scope\n",
        "with tf.name_scope('hidden1'):"
      ],
      "execution_count": 0,
      "outputs": []
    },
    {
      "metadata": {
        "id": "S9ApWd8OhZBf",
        "colab_type": "code",
        "colab": {}
      },
      "cell_type": "code",
      "source": [
        "# layers will use W and b and are generated into tf.Variable\n",
        "weights = tf.Variable(\n",
        "    tf.truncated_normal([IMAGE_PIXELS, hidden1_units],\n",
        "                        stddev=1.0 / math.sqrt(float(IMAGE_PIXELS))),\n",
        "    name='weights')\n",
        "biases = tf.Variable(tf.zeros([hidden1_units]),\n",
        "                     name='biases')"
      ],
      "execution_count": 0,
      "outputs": []
    },
    {
      "metadata": {
        "id": "F64Ryw5hhgdt",
        "colab_type": "code",
        "colab": {}
      },
      "cell_type": "code",
      "source": [
        "hidden1 = tf.nn.relu(tf.matmul(images, weights) + biases)"
      ],
      "execution_count": 0,
      "outputs": []
    },
    {
      "metadata": {
        "id": "oAXZGiWzhhFF",
        "colab_type": "code",
        "colab": {}
      },
      "cell_type": "code",
      "source": [
        "hidden2 = tf.nn.relu(tf.matmul(hidden1, weights) + biases)"
      ],
      "execution_count": 0,
      "outputs": []
    },
    {
      "metadata": {
        "id": "7lfyNZLihh2J",
        "colab_type": "code",
        "colab": {}
      },
      "cell_type": "code",
      "source": [
        "logits = tf.matmul(hidden2, weights) + biases"
      ],
      "execution_count": 0,
      "outputs": []
    },
    {
      "metadata": {
        "id": "YT-48mTWhkDY",
        "colab_type": "text"
      },
      "cell_type": "markdown",
      "source": [
        "**Loss**"
      ]
    },
    {
      "metadata": {
        "id": "7aKoZzQNhm2H",
        "colab_type": "code",
        "colab": {}
      },
      "cell_type": "code",
      "source": [
        "# labels_placeholder values are converted to 64-bit integers\n",
        "# tf.nn.sparse_..._logits produce 1-hot labels from label_placeholder and compare outputs from inference()\n",
        "labels = tf.to_int64(labels)\n",
        "cross_entropy = tf.nn.sparse_softmax_cross_entropy_with_logits(\n",
        "    labels=labels, logits=logits, name='xentropy')"
      ],
      "execution_count": 0,
      "outputs": []
    },
    {
      "metadata": {
        "id": "H3iemifshncr",
        "colab_type": "code",
        "colab": {}
      },
      "cell_type": "code",
      "source": [
        "# tf.reduce_mean averages cross entropy values across batch dimensions as total loss\n",
        "loss = tf.reduce_mean(cross_entropy, name='xentropy_mean')"
      ],
      "execution_count": 0,
      "outputs": []
    },
    {
      "metadata": {
        "id": "9CCZ43d5hoLH",
        "colab_type": "text"
      },
      "cell_type": "markdown",
      "source": [
        "**Training**  \n",
        "Gradient Descent ops minimize loss"
      ]
    },
    {
      "metadata": {
        "id": "IhKDjalFhu8N",
        "colab_type": "code",
        "colab": {}
      },
      "cell_type": "code",
      "source": [
        "# loss tensor is added to tf.summary.scalar for snapshot values of loss\n",
        "tf.summary.scalar('loss', loss)"
      ],
      "execution_count": 0,
      "outputs": []
    },
    {
      "metadata": {
        "id": "R8UUXg3Shwso",
        "colab_type": "code",
        "colab": {}
      },
      "cell_type": "code",
      "source": [
        "# apply gradients with requested learning rate\n",
        "optimizer = tf.train.GradientDescentOptimizer(learning_rate)"
      ],
      "execution_count": 0,
      "outputs": []
    },
    {
      "metadata": {
        "id": "SLybB9FIhx61",
        "colab_type": "code",
        "colab": {}
      },
      "cell_type": "code",
      "source": [
        "# Variable to contain counter for global training step\n",
        "# train_op runs as one full training step\n",
        "global_step = tf.Variable(0, name='global_step', trainable=False)\n",
        "train_op = optimizer.minimize(loss, global_step=global_step)"
      ],
      "execution_count": 0,
      "outputs": []
    },
    {
      "metadata": {
        "id": "XvWrVyijhy9D",
        "colab_type": "text"
      },
      "cell_type": "markdown",
      "source": [
        "**TRAIN THE MODEL**  \n",
        "The graph is now built. Train and evaluate the graph with fully_connected_feed.py"
      ]
    },
    {
      "metadata": {
        "id": "WdpB0f4Hh1QT",
        "colab_type": "text"
      },
      "cell_type": "markdown",
      "source": [
        "**The Graph**"
      ]
    },
    {
      "metadata": {
        "id": "STe7bvLVh9iZ",
        "colab_type": "code",
        "colab": {}
      },
      "cell_type": "code",
      "source": [
        "# 'with' indicates all built ops are associated with the default global tf.Graph instance\n",
        "# tf.Graph is a collection of ops executed as group. Most tf uses the single default graph.\n",
        "with tf.Graph().as_default():"
      ],
      "execution_count": 0,
      "outputs": []
    },
    {
      "metadata": {
        "id": "oYwW_nJYh-i1",
        "colab_type": "text"
      },
      "cell_type": "markdown",
      "source": [
        "**The Session**  \n",
        "All build preparations are created. All operations are generated."
      ]
    },
    {
      "metadata": {
        "id": "NGJ17JGjiC4u",
        "colab_type": "code",
        "colab": {}
      },
      "cell_type": "code",
      "source": [
        "# run graph\n",
        "sess = tf.Session()"
      ],
      "execution_count": 0,
      "outputs": []
    },
    {
      "metadata": {
        "id": "KXpZOkXeiDjh",
        "colab_type": "code",
        "colab": {}
      },
      "cell_type": "code",
      "source": [
        "# Session is now a block for scoping\n",
        "# () = codes will attach to default local session\n",
        "with tf.Session() as sess:"
      ],
      "execution_count": 0,
      "outputs": []
    },
    {
      "metadata": {
        "id": "ABk0pZhSiEhJ",
        "colab_type": "code",
        "colab": {}
      },
      "cell_type": "code",
      "source": [
        "# to be read as tf.Session.run\n",
        "init = tf.global_variables_initializer()\n",
        "sess.run(init)"
      ],
      "execution_count": 0,
      "outputs": []
    },
    {
      "metadata": {
        "id": "-YUEWocliGjd",
        "colab_type": "text"
      },
      "cell_type": "markdown",
      "source": [
        "**Train Loop**"
      ]
    },
    {
      "metadata": {
        "id": "DfoHTQz1iIhC",
        "colab_type": "code",
        "colab": {}
      },
      "cell_type": "code",
      "source": [
        "# training loop\n",
        "for step in xrange(FLAGS.max_steps):\n",
        "    sess.run(train_op)"
      ],
      "execution_count": 0,
      "outputs": []
    },
    {
      "metadata": {
        "id": "waugwfJPiJk4",
        "colab_type": "text"
      },
      "cell_type": "markdown",
      "source": [
        "**Feed the Graph**"
      ]
    },
    {
      "metadata": {
        "id": "efXJSOmtiLmM",
        "colab_type": "code",
        "colab": {}
      },
      "cell_type": "code",
      "source": [
        "# fill_feed_dict() queries DataSet to be fed to batch_size. Tensors are filled with next images and labels.\n",
        "images_feed, labels_feed = data_set.next_batch(FLAGS.batch_size,\n",
        "                                               FLAGS.fake_data)"
      ],
      "execution_count": 0,
      "outputs": []
    },
    {
      "metadata": {
        "id": "Y2mD4R3IiM_a",
        "colab_type": "code",
        "colab": {}
      },
      "cell_type": "code",
      "source": [
        "# python dictionary\n",
        "# keys = placeholders; values = representative feed tensors.\n",
        "feed_dict = {\n",
        "    images_placeholder: images_feed,\n",
        "    labels_placeholder: labels_feed,\n",
        "}"
      ],
      "execution_count": 0,
      "outputs": []
    },
    {
      "metadata": {
        "id": "Rb_NTUM1iNt1",
        "colab_type": "text"
      },
      "cell_type": "markdown",
      "source": [
        "**Check the Status**"
      ]
    },
    {
      "metadata": {
        "id": "S1hdCXg3iQkW",
        "colab_type": "code",
        "colab": {}
      },
      "cell_type": "code",
      "source": [
        "# train_op and loss are fetched to run.\n",
        "for step in xrange(FLAGS.max_steps):\n",
        "    feed_dict = fill_feed_dict(data_sets.train,\n",
        "                               images_placeholder,\n",
        "                               labels_placeholder)\n",
        "    _, loss_value = sess.run([train_op, loss],\n",
        "                             feed_dict=feed_dict)"
      ],
      "execution_count": 0,
      "outputs": []
    },
    {
      "metadata": {
        "id": "YQXgBlDliR-L",
        "colab_type": "code",
        "colab": {}
      },
      "cell_type": "code",
      "source": [
        "# print status every 100 steps for user to know.\n",
        "if step % 100 == 0:\n",
        "    print('Step %d: loss = %.2f (%.3f sec)' % (step, loss_value, duration))"
      ],
      "execution_count": 0,
      "outputs": []
    },
    {
      "metadata": {
        "id": "wELaGAVgiUaW",
        "colab_type": "text"
      },
      "cell_type": "markdown",
      "source": [
        "**Visualize the Status**"
      ]
    },
    {
      "metadata": {
        "id": "Nx12tMG9icba",
        "colab_type": "code",
        "colab": {}
      },
      "cell_type": "code",
      "source": [
        "# all summaries collected into a single Tensor during graph building\n",
        "summary = tf.summary.merge_all()"
      ],
      "execution_count": 0,
      "outputs": []
    },
    {
      "metadata": {
        "id": "SlKtiuj1idGa",
        "colab_type": "code",
        "colab": {}
      },
      "cell_type": "code",
      "source": [
        "# write events files. Contains graph and values of summaries.\n",
        "summary_writer = tf.summary.FileWriter(FLAGS.train_dir, sess.graph)"
      ],
      "execution_count": 0,
      "outputs": []
    },
    {
      "metadata": {
        "id": "u2DFYrULihsS",
        "colab_type": "code",
        "colab": {}
      },
      "cell_type": "code",
      "source": [
        "# summary values are updated\n",
        "summary_str = sess.run(summary, feed_dict=feed_dict)\n",
        "summary_writer.add_summary(summary_str, step)"
      ],
      "execution_count": 0,
      "outputs": []
    },
    {
      "metadata": {
        "id": "TmUUQofRipDr",
        "colab_type": "text"
      },
      "cell_type": "markdown",
      "source": [
        "**Save a Checkpoint**"
      ]
    },
    {
      "metadata": {
        "id": "27yf1GaXiuJP",
        "colab_type": "code",
        "colab": {}
      },
      "cell_type": "code",
      "source": [
        "saver = tf.train.Saver()"
      ],
      "execution_count": 0,
      "outputs": []
    },
    {
      "metadata": {
        "id": "NfXNJqGDivcU",
        "colab_type": "code",
        "colab": {}
      },
      "cell_type": "code",
      "source": [
        "saver.save(sess, FLAGS.train_dir, global_step=step)"
      ],
      "execution_count": 0,
      "outputs": []
    },
    {
      "metadata": {
        "id": "4RpRetHaiybi",
        "colab_type": "code",
        "colab": {}
      },
      "cell_type": "code",
      "source": [
        "saver.restore(sess, FLAGS.train_dir)"
      ],
      "execution_count": 0,
      "outputs": []
    },
    {
      "metadata": {
        "id": "sjBwUUASi2iB",
        "colab_type": "text"
      },
      "cell_type": "markdown",
      "source": [
        "**EVALUATE THE MODEL**"
      ]
    },
    {
      "metadata": {
        "id": "Yw4t0cxQi5H3",
        "colab_type": "code",
        "colab": {}
      },
      "cell_type": "code",
      "source": [
        "print('Training Data Eval:')\n",
        "do_eval(sess,\n",
        "        eval_correct,\n",
        "        images_placeholder,\n",
        "        labels_placeholder,\n",
        "        data_sets.train)\n",
        "print('Validation Data Eval:')\n",
        "do_eval(sess,\n",
        "        eval_correct,\n",
        "        images_placeholder,\n",
        "        labels_placeholder,\n",
        "        data_sets.validation)\n",
        "print('Test Data Eval:')\n",
        "do_eval(sess,\n",
        "        eval_correct,\n",
        "        images_placeholder,\n",
        "        labels_placeholder,\n",
        "        data_sets.test)"
      ],
      "execution_count": 0,
      "outputs": []
    },
    {
      "metadata": {
        "id": "IxABQH4Yi6K1",
        "colab_type": "text"
      },
      "cell_type": "markdown",
      "source": [
        "**Build the Eval Graph**"
      ]
    },
    {
      "metadata": {
        "id": "e0tPnikJi-C9",
        "colab_type": "code",
        "colab": {}
      },
      "cell_type": "code",
      "source": [
        "eval_correct = mnist.evaluation(logits, labels_placeholder)"
      ],
      "execution_count": 0,
      "outputs": []
    },
    {
      "metadata": {
        "id": "VuRvTB6ejAfv",
        "colab_type": "code",
        "colab": {}
      },
      "cell_type": "code",
      "source": [
        "eval_correct = tf.nn.in_top_k(logits, labels, 1)"
      ],
      "execution_count": 0,
      "outputs": []
    },
    {
      "metadata": {
        "id": "bUgtR5CDjC5J",
        "colab_type": "text"
      },
      "cell_type": "markdown",
      "source": [
        "**Eval Output**"
      ]
    },
    {
      "metadata": {
        "id": "UrzRhxnkjK1u",
        "colab_type": "code",
        "colab": {}
      },
      "cell_type": "code",
      "source": [
        "for step in xrange(steps_per_epoch):\n",
        "    feed_dict = fill_feed_dict(data_set,\n",
        "                               images_placeholder,\n",
        "                               labels_placeholder)\n",
        "    true_count += sess.run(eval_correct, feed_dict=feed_dict)"
      ],
      "execution_count": 0,
      "outputs": []
    },
    {
      "metadata": {
        "id": "3Y9PSj7VjNQ_",
        "colab_type": "code",
        "colab": {}
      },
      "cell_type": "code",
      "source": [
        "precision = true_count / num_examples\n",
        "print('  Num examples: %d  Num correct: %d  Precision @ 1: %0.04f' %\n",
        "      (num_examples, true_count, precision))"
      ],
      "execution_count": 0,
      "outputs": []
    }
  ]
}