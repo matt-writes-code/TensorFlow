{
  "nbformat": 4,
  "nbformat_minor": 0,
  "metadata": {
    "colab": {
      "name": "Hello, Colaboratory",
      "version": "0.3.2",
      "provenance": [],
      "collapsed_sections": [],
      "include_colab_link": true
    },
    "kernelspec": {
      "display_name": "Python 3",
      "name": "python3"
    }
  },
  "cells": [
    {
      "cell_type": "markdown",
      "metadata": {
        "id": "view-in-github",
        "colab_type": "text"
      },
      "source": [
        "[View in Colaboratory](https://colab.research.google.com/github/mayojich/TensorFlow/blob/master/04.%20tf.contrib.learn%20Quickstart.ipynb)"
      ]
    },
    {
      "metadata": {
        "id": "Wct3WvBMlp_M",
        "colab_type": "text"
      },
      "cell_type": "markdown",
      "source": [
        "[tf.contrib.learn Quickstart](https://www.tensorflow.org/versions/r1.2/get_started/tflearn)"
      ]
    },
    {
      "metadata": {
        "id": "3d3aE4uYl__o",
        "colab_type": "text"
      },
      "cell_type": "markdown",
      "source": [
        "**COMPLETE NUERAL NETWORK SOURCE CODE**"
      ]
    },
    {
      "metadata": {
        "id": "jXelgkZ3mQrB",
        "colab_type": "code",
        "colab": {}
      },
      "cell_type": "code",
      "source": [
        "from __future__ import absolute_import\n",
        "from __future__ import division\n",
        "from __future__ import print_function\n",
        "\n",
        "import os\n",
        "import urllib\n",
        "\n",
        "import numpy as np\n",
        "import tensorflow as tf\n",
        "\n",
        "# Data sets\n",
        "IRIS_TRAINING = \"iris_training.csv\"\n",
        "IRIS_TRAINING_URL = \"http://download.tensorflow.org/data/iris_training.csv\"\n",
        "\n",
        "IRIS_TEST = \"iris_test.csv\"\n",
        "IRIS_TEST_URL = \"http://download.tensorflow.org/data/iris_test.csv\"\n",
        "\n",
        "def main():\n",
        "  # If the training and test sets aren't stored locally, download them.\n",
        "  if not os.path.exists(IRIS_TRAINING):\n",
        "    raw = urllib.urlopen(IRIS_TRAINING_URL).read()\n",
        "    with open(IRIS_TRAINING, \"w\") as f:\n",
        "      f.write(raw)\n",
        "\n",
        "  if not os.path.exists(IRIS_TEST):\n",
        "    raw = urllib.urlopen(IRIS_TEST_URL).read()\n",
        "    with open(IRIS_TEST, \"w\") as f:\n",
        "      f.write(raw)\n",
        "\n",
        "  # Load datasets.\n",
        "  training_set = tf.contrib.learn.datasets.base.load_csv_with_header(\n",
        "      filename=IRIS_TRAINING,\n",
        "      target_dtype=np.int,\n",
        "      features_dtype=np.float32)\n",
        "  test_set = tf.contrib.learn.datasets.base.load_csv_with_header(\n",
        "      filename=IRIS_TEST,\n",
        "      target_dtype=np.int,\n",
        "      features_dtype=np.float32)\n",
        "\n",
        "  # Specify that all features have real-value data\n",
        "  feature_columns = [tf.contrib.layers.real_valued_column(\"\", dimension=4)]\n",
        "\n",
        "  # Build 3 layer DNN with 10, 20, 10 units respectively.\n",
        "  classifier = tf.contrib.learn.DNNClassifier(feature_columns=feature_columns,\n",
        "                                              hidden_units=[10, 20, 10],\n",
        "                                              n_classes=3,\n",
        "                                              model_dir=\"/tmp/iris_model\")\n",
        "  # Define the training inputs\n",
        "  def get_train_inputs():\n",
        "    x = tf.constant(training_set.data)\n",
        "    y = tf.constant(training_set.target)\n",
        "\n",
        "    return x, y\n",
        "\n",
        "  # Fit model.\n",
        "  classifier.fit(input_fn=get_train_inputs, steps=2000)\n",
        "\n",
        "  # Define the test inputs\n",
        "  def get_test_inputs():\n",
        "    x = tf.constant(test_set.data)\n",
        "    y = tf.constant(test_set.target)\n",
        "\n",
        "    return x, y\n",
        "\n",
        "  # Evaluate accuracy.\n",
        "  accuracy_score = classifier.evaluate(input_fn=get_test_inputs,\n",
        "                                       steps=1)[\"accuracy\"]\n",
        "\n",
        "  print(\"\\nTest Accuracy: {0:f}\\n\".format(accuracy_score))\n",
        "\n",
        "  # Classify two new flower samples.\n",
        "  def new_samples():\n",
        "    return np.array(\n",
        "      [[6.4, 3.2, 4.5, 1.5],\n",
        "       [5.8, 3.1, 5.0, 1.7]], dtype=np.float32)\n",
        "\n",
        "  predictions = list(classifier.predict(input_fn=new_samples))\n",
        "\n",
        "  print(\n",
        "      \"New Samples, Class Predictions:    {}\\n\"\n",
        "      .format(predictions))\n",
        "\n",
        "if __name__ == \"__main__\":\n",
        "    main()"
      ],
      "execution_count": 0,
      "outputs": []
    },
    {
      "metadata": {
        "id": "zj-H5rwomVf7",
        "colab_type": "text"
      },
      "cell_type": "markdown",
      "source": [
        "**LOAD THE IRIS CSV DATA TO TENSORFLOW**"
      ]
    },
    {
      "metadata": {
        "id": "OXBxWWXSmsFQ",
        "colab_type": "code",
        "colab": {}
      },
      "cell_type": "code",
      "source": [
        "from __future__ import absolute_import\n",
        "from __future__ import division\n",
        "from __future__ import print_function\n",
        "\n",
        "import os\n",
        "import urllib\n",
        "\n",
        "import tensorflow as tf\n",
        "import numpy as np\n",
        "\n",
        "IRIS_TRAINING = \"iris_training.csv\"\n",
        "IRIS_TRAINING_URL = \"http://download.tensorflow.org/data/iris_training.csv\"\n",
        "\n",
        "IRIS_TEST = \"iris_test.csv\"\n",
        "IRIS_TEST_URL = \"http://download.tensorflow.org/data/iris_test.csv\""
      ],
      "execution_count": 0,
      "outputs": []
    },
    {
      "metadata": {
        "id": "WpMd_GJEmvsd",
        "colab_type": "code",
        "colab": {}
      },
      "cell_type": "code",
      "source": [
        "if not os.path.exists(IRIS_TRAINING):\n",
        "  raw = urllib.urlopen(IRIS_TRAINING_URL).read()\n",
        "  with open(IRIS_TRAINING,'w') as f:\n",
        "    f.write(raw)\n",
        "\n",
        "if not os.path.exists(IRIS_TEST):\n",
        "  raw = urllib.urlopen(IRIS_TEST_URL).read()\n",
        "  with open(IRIS_TEST,'w') as f:\n",
        "    f.write(raw)"
      ],
      "execution_count": 0,
      "outputs": []
    },
    {
      "metadata": {
        "id": "RYb0toLqmx7k",
        "colab_type": "code",
        "colab": {}
      },
      "cell_type": "code",
      "source": [
        "# Load datasets.\n",
        "training_set = tf.contrib.learn.datasets.base.load_csv_with_header(\n",
        "    filename=IRIS_TRAINING,\n",
        "    target_dtype=np.int,\n",
        "    features_dtype=np.float32)\n",
        "test_set = tf.contrib.learn.datasets.base.load_csv_with_header(\n",
        "    filename=IRIS_TEST,\n",
        "    target_dtype=np.int,\n",
        "    features_dtype=np.float32)"
      ],
      "execution_count": 0,
      "outputs": []
    },
    {
      "metadata": {
        "id": "SN2g9CREm1As",
        "colab_type": "text"
      },
      "cell_type": "markdown",
      "source": [
        "**CONSTRUCT A DEEP NEURAL NETWORK CLASSIFIER**"
      ]
    },
    {
      "metadata": {
        "id": "gumiyl3qnZI8",
        "colab_type": "code",
        "colab": {}
      },
      "cell_type": "code",
      "source": [
        "# Specify that all features have real-value data\n",
        "feature_columns = [tf.contrib.layers.real_valued_column(\"\", dimension=4)]\n",
        "\n",
        "# Build 3 layer DNN with 10, 20, 10 units respectively.\n",
        "classifier = tf.contrib.learn.DNNClassifier(feature_columns=feature_columns,\n",
        "                                            hidden_units=[10, 20, 10],\n",
        "                                            n_classes=3,\n",
        "                                            model_dir=\"/tmp/iris_model\")"
      ],
      "execution_count": 0,
      "outputs": []
    },
    {
      "metadata": {
        "id": "fKfsbLV6nckU",
        "colab_type": "text"
      },
      "cell_type": "markdown",
      "source": [
        "**DESCRIBE THE TRAINING INPUT PIPELINE**"
      ]
    },
    {
      "metadata": {
        "id": "-eWRFeKJnhMy",
        "colab_type": "code",
        "colab": {}
      },
      "cell_type": "code",
      "source": [
        "# Define the training inputs\n",
        "def get_train_inputs():\n",
        "  x = tf.constant(training_set.data)\n",
        "  y = tf.constant(training_set.target)\n",
        "\n",
        "  return x, y"
      ],
      "execution_count": 0,
      "outputs": []
    },
    {
      "metadata": {
        "id": "0rL6zftbnk6_",
        "colab_type": "text"
      },
      "cell_type": "markdown",
      "source": [
        "**FIT THE DNNCLASSIFIER TO THE IRIS TRAINING DATA**"
      ]
    },
    {
      "metadata": {
        "id": "CmHGwqGNntyf",
        "colab_type": "code",
        "colab": {}
      },
      "cell_type": "code",
      "source": [
        "# Fit model.\n",
        "classifier.fit(input_fn=get_train_inputs, steps=2000)"
      ],
      "execution_count": 0,
      "outputs": []
    },
    {
      "metadata": {
        "id": "uyexcsqhnu8g",
        "colab_type": "code",
        "colab": {}
      },
      "cell_type": "code",
      "source": [
        "classifier.fit(x=training_set.data, y=training_set.target, steps=1000)\n",
        "classifier.fit(x=training_set.data, y=training_set.target, steps=1000)"
      ],
      "execution_count": 0,
      "outputs": []
    },
    {
      "metadata": {
        "id": "Kf2VTzTWnvny",
        "colab_type": "text"
      },
      "cell_type": "markdown",
      "source": [
        "**EVALUATE MODEL ACCURACY**"
      ]
    },
    {
      "metadata": {
        "id": "AnuvU3qrn41V",
        "colab_type": "code",
        "colab": {}
      },
      "cell_type": "code",
      "source": [
        "# Define the test inputs\n",
        "def get_test_inputs():\n",
        "  x = tf.constant(test_set.data)\n",
        "  y = tf.constant(test_set.target)\n",
        "\n",
        "  return x, y\n",
        "\n",
        "# Evaluate accuracy.\n",
        "accuracy_score = classifier.evaluate(input_fn=get_test_inputs,\n",
        "                                     steps=1)[\"accuracy\"]\n",
        "\n",
        "print(\"\\nTest Accuracy: {0:f}\\n\".format(accuracy_score))"
      ],
      "execution_count": 0,
      "outputs": []
    },
    {
      "metadata": {
        "id": "wGxaZjaJn9Fr",
        "colab_type": "code",
        "colab": {}
      },
      "cell_type": "code",
      "source": [
        "Test Accuracy: 0.966667"
      ],
      "execution_count": 0,
      "outputs": []
    },
    {
      "metadata": {
        "id": "PHqFKxO6n-YB",
        "colab_type": "text"
      },
      "cell_type": "markdown",
      "source": [
        "**CLASSIFY NEW SAMPLES**"
      ]
    },
    {
      "metadata": {
        "id": "numsRupLoBe8",
        "colab_type": "code",
        "colab": {}
      },
      "cell_type": "code",
      "source": [
        "# Classify two new flower samples.\n",
        "def new_samples():\n",
        "  return np.array(\n",
        "    [[6.4, 3.2, 4.5, 1.5],\n",
        "     [5.8, 3.1, 5.0, 1.7]], dtype=np.float32)\n",
        "\n",
        "predictions = list(classifier.predict(input_fn=new_samples))\n",
        "\n",
        "print(\n",
        "    \"New Samples, Class Predictions:    {}\\n\"\n",
        "    .format(predictions))"
      ],
      "execution_count": 0,
      "outputs": []
    },
    {
      "metadata": {
        "id": "FdktmdcNoDW3",
        "colab_type": "code",
        "colab": {}
      },
      "cell_type": "code",
      "source": [
        "New Samples, Class Predictions:    [1 2]"
      ],
      "execution_count": 0,
      "outputs": []
    }
  ]
}