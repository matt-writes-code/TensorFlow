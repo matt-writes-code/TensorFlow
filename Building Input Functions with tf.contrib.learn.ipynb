{
  "nbformat": 4,
  "nbformat_minor": 0,
  "metadata": {
    "colab": {
      "name": "Hello, Colaboratory",
      "version": "0.3.2",
      "provenance": [],
      "collapsed_sections": [],
      "include_colab_link": true
    },
    "kernelspec": {
      "display_name": "Python 3",
      "name": "python3"
    }
  },
  "cells": [
    {
      "cell_type": "markdown",
      "metadata": {
        "id": "view-in-github",
        "colab_type": "text"
      },
      "source": [
        "[View in Colaboratory](https://colab.research.google.com/github/mayojich/TensorFlow/blob/master/Building%20Input%20Functions%20with%20tf.contrib.learn.ipynb)"
      ]
    },
    {
      "metadata": {
        "id": "dWRRsJyRpVtA",
        "colab_type": "text"
      },
      "cell_type": "markdown",
      "source": [
        "[Building Input Functions with tf.contrib.learn](https://www.tensorflow.org/versions/r1.2/get_started/input_fn)"
      ]
    },
    {
      "metadata": {
        "id": "-KqIQoFVpg2x",
        "colab_type": "text"
      },
      "cell_type": "markdown",
      "source": [
        "**CUSTOM INPUT PIPELINE WITH INPUT_FN**"
      ]
    },
    {
      "metadata": {
        "id": "nTxXe-98pj-U",
        "colab_type": "code",
        "colab": {}
      },
      "cell_type": "code",
      "source": [
        "training_set = tf.contrib.learn.datasets.base.load_csv_with_header(\n",
        "    filename=IRIS_TRAINING, target_dtype=np.int, features_dtype=np.float32)\n",
        "test_set = tf.contrib.learn.datasets.base.load_csv_with_header(\n",
        "    filename=IRIS_TEST, target_dtype=np.int, features_dtype=np.float32)\n",
        "...\n",
        "\n",
        "classifier.fit(x=training_set.data,\n",
        "               y=training_set.target,\n",
        "               steps=2000)"
      ],
      "execution_count": 0,
      "outputs": []
    },
    {
      "metadata": {
        "id": "_jRY_iLLpk95",
        "colab_type": "text"
      },
      "cell_type": "markdown",
      "source": [
        "**Anatomy of an input_fn**"
      ]
    },
    {
      "metadata": {
        "id": "sjSq0wVKpmBB",
        "colab_type": "code",
        "colab": {}
      },
      "cell_type": "code",
      "source": [
        "def my_input_fn():\n",
        "\n",
        "    # Preprocess your data here...\n",
        "\n",
        "    # ...then return 1) a mapping of feature columns to Tensors with\n",
        "    # the corresponding feature data, and 2) a Tensor containing labels\n",
        "    return feature_cols, labels"
      ],
      "execution_count": 0,
      "outputs": []
    },
    {
      "metadata": {
        "id": "3zzts2P4poX1",
        "colab_type": "text"
      },
      "cell_type": "markdown",
      "source": [
        "**Converting Feature Data to Tensors**"
      ]
    },
    {
      "metadata": {
        "id": "xtvs509Mppv5",
        "colab_type": "code",
        "colab": {}
      },
      "cell_type": "code",
      "source": [
        "feature_column_data = [1, 2.4, 0, 9.9, 3, 120]\n",
        "feature_tensor = tf.constant(feature_column_data)"
      ],
      "execution_count": 0,
      "outputs": []
    },
    {
      "metadata": {
        "id": "uEI8zkNBpras",
        "colab_type": "code",
        "colab": {}
      },
      "cell_type": "code",
      "source": [
        "sparse_tensor = tf.SparseTensor(indices=[[0,1], [2,4]],\n",
        "                                values=[6, 0.5],\n",
        "                                dense_shape=[3, 5])"
      ],
      "execution_count": 0,
      "outputs": []
    },
    {
      "metadata": {
        "id": "QYXFKUUkpshV",
        "colab_type": "code",
        "colab": {}
      },
      "cell_type": "code",
      "source": [
        "[[0, 6, 0, 0, 0]\n",
        " [0, 0, 0, 0, 0]\n",
        " [0, 0, 0, 0, 0.5]]"
      ],
      "execution_count": 0,
      "outputs": []
    },
    {
      "metadata": {
        "id": "6RPfOG15pwVJ",
        "colab_type": "text"
      },
      "cell_type": "markdown",
      "source": [
        "**Passing input_fn Data to Your Model**\n"
      ]
    },
    {
      "metadata": {
        "id": "09nGKAdnpxvP",
        "colab_type": "code",
        "colab": {}
      },
      "cell_type": "code",
      "source": [
        "classifier.fit(input_fn=my_input_fn, steps=2000)"
      ],
      "execution_count": 0,
      "outputs": []
    },
    {
      "metadata": {
        "id": "FTDqEEQ7p2VS",
        "colab_type": "code",
        "colab": {}
      },
      "cell_type": "code",
      "source": [
        "classifier.fit(input_fn=my_input_fn(training_set), steps=2000)"
      ],
      "execution_count": 0,
      "outputs": []
    },
    {
      "metadata": {
        "id": "1Y5SfiCBp3el",
        "colab_type": "code",
        "colab": {}
      },
      "cell_type": "code",
      "source": [
        "def my_input_function_training_set():\n",
        "  return my_input_function(training_set)\n",
        "\n",
        "classifier.fit(input_fn=my_input_fn_training_set, steps=2000)"
      ],
      "execution_count": 0,
      "outputs": []
    },
    {
      "metadata": {
        "id": "20QdiTTbp5BD",
        "colab_type": "code",
        "colab": {}
      },
      "cell_type": "code",
      "source": [
        "classifier.fit(input_fn=functools.partial(my_input_function,\n",
        "                                          data_set=training_set), steps=2000)"
      ],
      "execution_count": 0,
      "outputs": []
    },
    {
      "metadata": {
        "id": "DbTjB-pmp7F9",
        "colab_type": "code",
        "colab": {}
      },
      "cell_type": "code",
      "source": [
        "classifier.fit(input_fn=lambda: my_input_fn(training_set), steps=2000)"
      ],
      "execution_count": 0,
      "outputs": []
    },
    {
      "metadata": {
        "id": "2mTO3MOXp-i8",
        "colab_type": "code",
        "colab": {}
      },
      "cell_type": "code",
      "source": [
        "classifier.evaluate(input_fn=lambda: my_input_fn(test_set), steps=2000)"
      ],
      "execution_count": 0,
      "outputs": []
    },
    {
      "metadata": {
        "id": "qK9PYueJqEUu",
        "colab_type": "text"
      },
      "cell_type": "markdown",
      "source": [
        "**A Neural Network Model for Boston House Values**\n"
      ]
    },
    {
      "metadata": {
        "id": "VVVkDzbPqGl9",
        "colab_type": "text"
      },
      "cell_type": "markdown",
      "source": [
        "**SETUP**\n"
      ]
    },
    {
      "metadata": {
        "id": "jZvpyf-2qNtX",
        "colab_type": "text"
      },
      "cell_type": "markdown",
      "source": [
        "**Importing the Housing Data**"
      ]
    },
    {
      "metadata": {
        "id": "Gf5wPQbuqQky",
        "colab_type": "code",
        "colab": {}
      },
      "cell_type": "code",
      "source": [
        "from __future__ import absolute_import\n",
        "from __future__ import division\n",
        "from __future__ import print_function\n",
        "\n",
        "import itertools\n",
        "\n",
        "import pandas as pd\n",
        "import tensorflow as tf\n",
        "\n",
        "tf.logging.set_verbosity(tf.logging.INFO)"
      ],
      "execution_count": 0,
      "outputs": []
    },
    {
      "metadata": {
        "id": "aVMzFYHpqRs-",
        "colab_type": "code",
        "colab": {}
      },
      "cell_type": "code",
      "source": [
        "COLUMNS = [\"crim\", \"zn\", \"indus\", \"nox\", \"rm\", \"age\",\n",
        "           \"dis\", \"tax\", \"ptratio\", \"medv\"]\n",
        "FEATURES = [\"crim\", \"zn\", \"indus\", \"nox\", \"rm\",\n",
        "            \"age\", \"dis\", \"tax\", \"ptratio\"]\n",
        "LABEL = \"medv\"\n",
        "\n",
        "training_set = pd.read_csv(\"boston_train.csv\", skipinitialspace=True,\n",
        "                           skiprows=1, names=COLUMNS)\n",
        "test_set = pd.read_csv(\"boston_test.csv\", skipinitialspace=True,\n",
        "                       skiprows=1, names=COLUMNS)\n",
        "prediction_set = pd.read_csv(\"boston_predict.csv\", skipinitialspace=True,\n",
        "                             skiprows=1, names=COLUMNS)"
      ],
      "execution_count": 0,
      "outputs": []
    },
    {
      "metadata": {
        "id": "Wk-ko7_EqVDZ",
        "colab_type": "text"
      },
      "cell_type": "markdown",
      "source": [
        "**Defining FeatureColumns and Creating the Regressor**"
      ]
    },
    {
      "metadata": {
        "id": "_22bOibfqWlU",
        "colab_type": "code",
        "colab": {}
      },
      "cell_type": "code",
      "source": [
        "feature_cols = [tf.contrib.layers.real_valued_column(k)\n",
        "                  for k in FEATURES]"
      ],
      "execution_count": 0,
      "outputs": []
    },
    {
      "metadata": {
        "id": "4MN2UBTkqYWQ",
        "colab_type": "code",
        "colab": {}
      },
      "cell_type": "code",
      "source": [
        "regressor = tf.contrib.learn.DNNRegressor(feature_columns=feature_cols,\n",
        "                                          hidden_units=[10, 10],\n",
        "                                          model_dir=\"/tmp/boston_model\")"
      ],
      "execution_count": 0,
      "outputs": []
    },
    {
      "metadata": {
        "id": "DzHCmeuEqZ7G",
        "colab_type": "text"
      },
      "cell_type": "markdown",
      "source": [
        "**Building the input_fn**\n"
      ]
    },
    {
      "metadata": {
        "id": "jlt8pEXWqbSe",
        "colab_type": "code",
        "colab": {}
      },
      "cell_type": "code",
      "source": [
        "def input_fn(data_set):\n",
        "  feature_cols = {k: tf.constant(data_set[k].values)\n",
        "                  for k in FEATURES}\n",
        "  labels = tf.constant(data_set[LABEL].values)\n",
        "  return feature_cols, labels"
      ],
      "execution_count": 0,
      "outputs": []
    },
    {
      "metadata": {
        "id": "HSf_VKbEqdMV",
        "colab_type": "text"
      },
      "cell_type": "markdown",
      "source": [
        "**Training the Regressor**\n"
      ]
    },
    {
      "metadata": {
        "id": "bt_Zs0oBqec6",
        "colab_type": "code",
        "colab": {}
      },
      "cell_type": "code",
      "source": [
        "regressor.fit(input_fn=lambda: input_fn(training_set), steps=5000)"
      ],
      "execution_count": 0,
      "outputs": []
    },
    {
      "metadata": {
        "id": "9aEemnQ1qfWf",
        "colab_type": "code",
        "colab": {}
      },
      "cell_type": "code",
      "source": [
        "INFO:tensorflow:Step 1: loss = 483.179\n",
        "INFO:tensorflow:Step 101: loss = 81.2072\n",
        "INFO:tensorflow:Step 201: loss = 72.4354\n",
        "...\n",
        "INFO:tensorflow:Step 1801: loss = 33.4454\n",
        "INFO:tensorflow:Step 1901: loss = 32.3397\n",
        "INFO:tensorflow:Step 2001: loss = 32.0053\n",
        "INFO:tensorflow:Step 4801: loss = 27.2791\n",
        "INFO:tensorflow:Step 4901: loss = 27.2251\n",
        "INFO:tensorflow:Saving checkpoints for 5000 into /tmp/boston_model/model.ckpt.\n",
        "INFO:tensorflow:Loss for final step: 27.1674."
      ],
      "execution_count": 0,
      "outputs": []
    },
    {
      "metadata": {
        "id": "DDMXk3OcqhOr",
        "colab_type": "text"
      },
      "cell_type": "markdown",
      "source": [
        "**Evaluating the Model**\n"
      ]
    },
    {
      "metadata": {
        "id": "6QFPiuzWqiWW",
        "colab_type": "code",
        "colab": {}
      },
      "cell_type": "code",
      "source": [
        "ev = regressor.evaluate(input_fn=lambda: input_fn(test_set), steps=1)"
      ],
      "execution_count": 0,
      "outputs": []
    },
    {
      "metadata": {
        "id": "3aeUt2RqqjEE",
        "colab_type": "code",
        "colab": {}
      },
      "cell_type": "code",
      "source": [
        "loss_score = ev[\"loss\"]\n",
        "print(\"Loss: {0:f}\".format(loss_score))"
      ],
      "execution_count": 0,
      "outputs": []
    },
    {
      "metadata": {
        "id": "p1bXyMYZqlOS",
        "colab_type": "code",
        "colab": {}
      },
      "cell_type": "code",
      "source": [
        "INFO:tensorflow:Eval steps [0,1) for training step 5000.\n",
        "INFO:tensorflow:Saving evaluation summary for 5000 step: loss = 11.9221\n",
        "Loss: 11.922098"
      ],
      "execution_count": 0,
      "outputs": []
    },
    {
      "metadata": {
        "id": "1yosIeGpqmbM",
        "colab_type": "text"
      },
      "cell_type": "markdown",
      "source": [
        "**Making Predictions**\n"
      ]
    },
    {
      "metadata": {
        "id": "AztJsYJhqnVs",
        "colab_type": "code",
        "colab": {}
      },
      "cell_type": "code",
      "source": [
        "y = regressor.predict(input_fn=lambda: input_fn(prediction_set))\n",
        "# .predict() returns an iterator; convert to a list and print predictions\n",
        "predictions = list(itertools.islice(y, 6))\n",
        "print (\"Predictions: {}\".format(str(predictions)))"
      ],
      "execution_count": 0,
      "outputs": []
    },
    {
      "metadata": {
        "id": "KtVKdoVjqoEg",
        "colab_type": "code",
        "colab": {}
      },
      "cell_type": "code",
      "source": [
        "Predictions: [ 33.30348587  17.04452896  22.56370163  34.74345398  14.55953979\n",
        "  19.58005714]"
      ],
      "execution_count": 0,
      "outputs": []
    }
  ]
}